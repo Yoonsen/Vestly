{
 "cells": [
  {
   "cell_type": "code",
   "execution_count": 51,
   "metadata": {},
   "outputs": [],
   "source": [
    "import dhlab.nbtext as nb\n",
    "import dhlab.module_update as mu\n",
    "import dhlab.graph_networkx_louvain as gnl\n",
    "import dhlab.token_map as tm\n",
    "from collections import Counter\n",
    "import qgrid"
   ]
  },
  {
   "cell_type": "code",
   "execution_count": 41,
   "metadata": {},
   "outputs": [],
   "source": [
    "import pandas as pd\n",
    "\n",
    "def alle_korpusnavn(korpus, ratio=0.3, cutoff=0):\n",
    "    urner = nb.pure_urn(korpus)\n",
    "    alle_navn = tm.combine_names(tm.corpus_names(urner, ratio = ratio, cutoff = cutoff))\n",
    "    return alle_navn\n",
    "\n",
    "def tell_navn(korpus, token_map):\n",
    "    res = dict()\n",
    "    for urn in korpus['urn']:\n",
    "        res[urn] = tm.count_name_strings(str(urn), token_map).to_dict()[0]\n",
    "    return pd.DataFrame(pd.DataFrame(res).sum(axis=1).sort_values(ascending=False))"
   ]
  },
  {
   "cell_type": "code",
   "execution_count": 2,
   "metadata": {},
   "outputs": [],
   "source": [
    "fargekoder = \"\"\"Guro-bøkene: R251/G213/B196 -- #FBD5C4\n",
    "Kaos-bøkene: 71/173/130 -- #47AD82\n",
    "Ola Aleksander-bøkene: 255/216/97 --#FFD861\n",
    "Ellen Andrea og småtassene: 127/95/147 -- #7F5F93\n",
    "Lillebror og Knerten: 58/172/190 -- #3AACBE\n",
    "Mormor: 232/64/78 -- #E8404E\n",
    "Aurora og sokrates blå: 47/58/131 – #2F3A83\"\"\""
   ]
  },
  {
   "cell_type": "code",
   "execution_count": 34,
   "metadata": {},
   "outputs": [],
   "source": [
    "korpus_raw = nb.book_corpus(author=\"vestly%anne%cath%\", limit = 1000)"
   ]
  },
  {
   "cell_type": "code",
   "execution_count": 35,
   "metadata": {},
   "outputs": [],
   "source": [
    "titles = Counter(dict(Counter(korpus_raw.title.values).most_common()))"
   ]
  },
  {
   "cell_type": "code",
   "execution_count": 36,
   "metadata": {},
   "outputs": [],
   "source": [
    "urns = []\n",
    "for title in titles:\n",
    "    if titles[title]:\n",
    "        urn = list(korpus_raw[korpus_raw.title == title].sort_values(by='year', ascending = False).urn)[0]\n",
    "        urns.append(urn)\n",
    "    \n",
    "        "
   ]
  },
  {
   "cell_type": "code",
   "execution_count": 39,
   "metadata": {},
   "outputs": [],
   "source": [
    "korpus = nb.frame(nb.metadata(urns), \"urn author year title subtitle publisher genre sesam lang trans\".split())"
   ]
  },
  {
   "cell_type": "code",
   "execution_count": 40,
   "metadata": {},
   "outputs": [
    {
     "data": {
      "text/html": [
       "<div>\n",
       "<style scoped>\n",
       "    .dataframe tbody tr th:only-of-type {\n",
       "        vertical-align: middle;\n",
       "    }\n",
       "\n",
       "    .dataframe tbody tr th {\n",
       "        vertical-align: top;\n",
       "    }\n",
       "\n",
       "    .dataframe thead th {\n",
       "        text-align: right;\n",
       "    }\n",
       "</style>\n",
       "<table border=\"1\" class=\"dataframe\">\n",
       "  <thead>\n",
       "    <tr style=\"text-align: right;\">\n",
       "      <th></th>\n",
       "      <th>urn</th>\n",
       "      <th>author</th>\n",
       "      <th>year</th>\n",
       "      <th>title</th>\n",
       "      <th>subtitle</th>\n",
       "      <th>publisher</th>\n",
       "      <th>genre</th>\n",
       "      <th>sesam</th>\n",
       "      <th>lang</th>\n",
       "      <th>trans</th>\n",
       "    </tr>\n",
       "  </thead>\n",
       "  <tbody>\n",
       "    <tr>\n",
       "      <td>0</td>\n",
       "      <td>2014030506112</td>\n",
       "      <td>Vestly, Anne-Cath.</td>\n",
       "      <td>2009</td>\n",
       "      <td>Lillebror og Knerten</td>\n",
       "      <td></td>\n",
       "      <td>Gyldendal</td>\n",
       "      <td>novel</td>\n",
       "      <td>48d6e1480434afd5e989e55997e3a847</td>\n",
       "      <td>nob</td>\n",
       "      <td></td>\n",
       "    </tr>\n",
       "    <tr>\n",
       "      <td>1</td>\n",
       "      <td>2011060906088</td>\n",
       "      <td>Vestly, Anne-Cath.</td>\n",
       "      <td>2003</td>\n",
       "      <td>Mormor og de åtte ungene</td>\n",
       "      <td></td>\n",
       "      <td>Bokklubbens barn</td>\n",
       "      <td>fiction</td>\n",
       "      <td>bb8988a6b4f207b2e3e62b3292492e69</td>\n",
       "      <td>nob</td>\n",
       "      <td></td>\n",
       "    </tr>\n",
       "    <tr>\n",
       "      <td>2</td>\n",
       "      <td>2008082504007</td>\n",
       "      <td>Vestly, Anne-Cath.</td>\n",
       "      <td>1999</td>\n",
       "      <td>Åtte små, to store og en lastebil</td>\n",
       "      <td></td>\n",
       "      <td>Gyldendal Tiden</td>\n",
       "      <td>fiction</td>\n",
       "      <td>2345802122722a0d28c91dcf58fd82af</td>\n",
       "      <td>nob</td>\n",
       "      <td></td>\n",
       "    </tr>\n",
       "    <tr>\n",
       "      <td>3</td>\n",
       "      <td>2008082001028</td>\n",
       "      <td>Vestly, Anne-Cath.</td>\n",
       "      <td>1998</td>\n",
       "      <td>Mormor og de åtte ungene i skogen</td>\n",
       "      <td></td>\n",
       "      <td>Gyldendal Tiden</td>\n",
       "      <td>fiction</td>\n",
       "      <td>5bcd9f2d0fe808148d2044295b54dd25</td>\n",
       "      <td>nob</td>\n",
       "      <td></td>\n",
       "    </tr>\n",
       "    <tr>\n",
       "      <td>4</td>\n",
       "      <td>2008100204035</td>\n",
       "      <td>Vestly, Anne-Cath.</td>\n",
       "      <td>1999</td>\n",
       "      <td>Ole Aleksander Filibom-bom-bom</td>\n",
       "      <td></td>\n",
       "      <td>Gyldendal Tiden</td>\n",
       "      <td>fiction</td>\n",
       "      <td>a6f276abd7d925d8be337f1143f312d5</td>\n",
       "      <td>nob</td>\n",
       "      <td></td>\n",
       "    </tr>\n",
       "    <tr>\n",
       "      <td>...</td>\n",
       "      <td>...</td>\n",
       "      <td>...</td>\n",
       "      <td>...</td>\n",
       "      <td>...</td>\n",
       "      <td>...</td>\n",
       "      <td>...</td>\n",
       "      <td>...</td>\n",
       "      <td>...</td>\n",
       "      <td>...</td>\n",
       "      <td>...</td>\n",
       "    </tr>\n",
       "    <tr>\n",
       "      <td>69</td>\n",
       "      <td>2008062304037</td>\n",
       "      <td>Vestly, Anne-Cath.</td>\n",
       "      <td>1992</td>\n",
       "      <td>Ellen Andrea og mormor</td>\n",
       "      <td></td>\n",
       "      <td>Tiden</td>\n",
       "      <td>fiction</td>\n",
       "      <td>e168e67da38ab9550685b154184cfd22</td>\n",
       "      <td>nob</td>\n",
       "      <td></td>\n",
       "    </tr>\n",
       "    <tr>\n",
       "      <td>70</td>\n",
       "      <td>2014020628003</td>\n",
       "      <td>Vestly, Anne-Cath.</td>\n",
       "      <td>1996</td>\n",
       "      <td>Hvor er Kvikko</td>\n",
       "      <td>barnekomedie</td>\n",
       "      <td>[Skien barneteater]</td>\n",
       "      <td>drama</td>\n",
       "      <td>2387224c1d8c88efcaa72910b89733fa</td>\n",
       "      <td>nob</td>\n",
       "      <td></td>\n",
       "    </tr>\n",
       "    <tr>\n",
       "      <td>71</td>\n",
       "      <td>2007041801040</td>\n",
       "      <td>Vestly, Anne-Cath.</td>\n",
       "      <td>1961</td>\n",
       "      <td>Mormors promenade</td>\n",
       "      <td></td>\n",
       "      <td>Tiden</td>\n",
       "      <td>fiction</td>\n",
       "      <td>67fc0de0a620e7328f641bb9d3e3607b</td>\n",
       "      <td>nob</td>\n",
       "      <td></td>\n",
       "    </tr>\n",
       "    <tr>\n",
       "      <td>72</td>\n",
       "      <td>2016090708189</td>\n",
       "      <td>Vestly, Anne-Cath.</td>\n",
       "      <td>1975</td>\n",
       "      <td>Om trygder og menneske</td>\n",
       "      <td>ein collage</td>\n",
       "      <td>Rikstrygdeverket</td>\n",
       "      <td>notfiction</td>\n",
       "      <td>bfa0c1532e06416b228382ab7a7b28e5</td>\n",
       "      <td>nno</td>\n",
       "      <td></td>\n",
       "    </tr>\n",
       "    <tr>\n",
       "      <td>73</td>\n",
       "      <td>2009012004037</td>\n",
       "      <td>Vestly, Anne-Cath.</td>\n",
       "      <td>2000</td>\n",
       "      <td>Nesten et helt menneske</td>\n",
       "      <td>lappeteppe 2</td>\n",
       "      <td>Tiden</td>\n",
       "      <td>notfiction</td>\n",
       "      <td>7b33dbdcc28c15990ab44e81fbc52728</td>\n",
       "      <td>nob</td>\n",
       "      <td></td>\n",
       "    </tr>\n",
       "  </tbody>\n",
       "</table>\n",
       "<p>74 rows × 10 columns</p>\n",
       "</div>"
      ],
      "text/plain": [
       "              urn              author  year  \\\n",
       "0   2014030506112  Vestly, Anne-Cath.  2009   \n",
       "1   2011060906088  Vestly, Anne-Cath.  2003   \n",
       "2   2008082504007  Vestly, Anne-Cath.  1999   \n",
       "3   2008082001028  Vestly, Anne-Cath.  1998   \n",
       "4   2008100204035  Vestly, Anne-Cath.  1999   \n",
       "..            ...                 ...   ...   \n",
       "69  2008062304037  Vestly, Anne-Cath.  1992   \n",
       "70  2014020628003  Vestly, Anne-Cath.  1996   \n",
       "71  2007041801040  Vestly, Anne-Cath.  1961   \n",
       "72  2016090708189  Vestly, Anne-Cath.  1975   \n",
       "73  2009012004037  Vestly, Anne-Cath.  2000   \n",
       "\n",
       "                                title      subtitle            publisher  \\\n",
       "0                Lillebror og Knerten                          Gyldendal   \n",
       "1            Mormor og de åtte ungene                   Bokklubbens barn   \n",
       "2   Åtte små, to store og en lastebil                    Gyldendal Tiden   \n",
       "3   Mormor og de åtte ungene i skogen                    Gyldendal Tiden   \n",
       "4      Ole Aleksander Filibom-bom-bom                    Gyldendal Tiden   \n",
       "..                                ...           ...                  ...   \n",
       "69             Ellen Andrea og mormor                              Tiden   \n",
       "70                     Hvor er Kvikko  barnekomedie  [Skien barneteater]   \n",
       "71                  Mormors promenade                              Tiden   \n",
       "72             Om trygder og menneske   ein collage     Rikstrygdeverket   \n",
       "73            Nesten et helt menneske  lappeteppe 2                Tiden   \n",
       "\n",
       "         genre                             sesam lang trans  \n",
       "0        novel  48d6e1480434afd5e989e55997e3a847  nob        \n",
       "1      fiction  bb8988a6b4f207b2e3e62b3292492e69  nob        \n",
       "2      fiction  2345802122722a0d28c91dcf58fd82af  nob        \n",
       "3      fiction  5bcd9f2d0fe808148d2044295b54dd25  nob        \n",
       "4      fiction  a6f276abd7d925d8be337f1143f312d5  nob        \n",
       "..         ...                               ...  ...   ...  \n",
       "69     fiction  e168e67da38ab9550685b154184cfd22  nob        \n",
       "70       drama  2387224c1d8c88efcaa72910b89733fa  nob        \n",
       "71     fiction  67fc0de0a620e7328f641bb9d3e3607b  nob        \n",
       "72  notfiction  bfa0c1532e06416b228382ab7a7b28e5  nno        \n",
       "73  notfiction  7b33dbdcc28c15990ab44e81fbc52728  nob        \n",
       "\n",
       "[74 rows x 10 columns]"
      ]
     },
     "execution_count": 40,
     "metadata": {},
     "output_type": "execute_result"
    }
   ],
   "source": [
    "korpus"
   ]
  },
  {
   "cell_type": "code",
   "execution_count": 49,
   "metadata": {},
   "outputs": [],
   "source": [
    "navn = alle_korpusnavn(korpus,ratio=0.2, cutoff=10)"
   ]
  },
  {
   "cell_type": "markdown",
   "metadata": {},
   "source": [
    "# Single navn fra bøkene"
   ]
  },
  {
   "cell_type": "code",
   "execution_count": 70,
   "metadata": {},
   "outputs": [],
   "source": [
    "single_navn = list(navn[0].keys())"
   ]
  },
  {
   "cell_type": "code",
   "execution_count": 71,
   "metadata": {},
   "outputs": [
    {
     "data": {
      "text/plain": [
       "['Er',\n",
       " 'Ja',\n",
       " 'Jeg',\n",
       " 'Kan',\n",
       " 'Knerten',\n",
       " 'Lillebror',\n",
       " 'Nei',\n",
       " 'Neida',\n",
       " 'Neimen',\n",
       " 'Phillip']"
      ]
     },
     "execution_count": 71,
     "metadata": {},
     "output_type": "execute_result"
    }
   ],
   "source": [
    "single_navn[:10]"
   ]
  },
  {
   "cell_type": "markdown",
   "metadata": {},
   "source": [
    "# Navn fra Anne Kristins excelfil"
   ]
  },
  {
   "cell_type": "code",
   "execution_count": 55,
   "metadata": {},
   "outputs": [],
   "source": [
    "vestlys_verden = pd.read_excel(\"Vestlys verden.xlsx\", header=None )"
   ]
  },
  {
   "cell_type": "code",
   "execution_count": 58,
   "metadata": {},
   "outputs": [
    {
     "data": {
      "application/vnd.jupyter.widget-view+json": {
       "model_id": "d93674a6518b47ff9de440f7fe336a2a",
       "version_major": 2,
       "version_minor": 0
      },
      "text/plain": [
       "QgridWidget(grid_options={'fullWidthRows': True, 'syncColumnCellResize': True, 'forceFitColumns': True, 'defau…"
      ]
     },
     "metadata": {},
     "output_type": "display_data"
    }
   ],
   "source": [
    "qgrid.show_grid(vestlys_verden.fillna(''))"
   ]
  },
  {
   "cell_type": "code",
   "execution_count": 61,
   "metadata": {},
   "outputs": [],
   "source": [
    "a = _58.get_changed_df()"
   ]
  },
  {
   "cell_type": "code",
   "execution_count": 66,
   "metadata": {},
   "outputs": [],
   "source": [
    "ac_navn = list(set([x for x in list(a[1]) if x != '']))"
   ]
  },
  {
   "cell_type": "code",
   "execution_count": 72,
   "metadata": {},
   "outputs": [
    {
     "data": {
      "text/plain": [
       "['bestemor',\n",
       " 'Sorenskriveren - Thomas',\n",
       " 'Rakel',\n",
       " 'Maren',\n",
       " \"mamma'n til Nusse\",\n",
       " 'Marie',\n",
       " 'mor',\n",
       " 'Nils Sokrates',\n",
       " 'mormor',\n",
       " 'Mormors syklubb: Ole Aleksandes bestemor og Henriks tante Olea']"
      ]
     },
     "execution_count": 72,
     "metadata": {},
     "output_type": "execute_result"
    }
   ],
   "source": [
    "ac_navn[:10]"
   ]
  },
  {
   "cell_type": "markdown",
   "metadata": {},
   "source": [
    "Sjekk hva som er felles:"
   ]
  },
  {
   "cell_type": "code",
   "execution_count": 73,
   "metadata": {},
   "outputs": [
    {
     "data": {
      "text/plain": [
       "['Rakel',\n",
       " 'Maren',\n",
       " 'Marie',\n",
       " 'Konstance',\n",
       " 'Lillemamma',\n",
       " 'Johanna',\n",
       " 'Phillip',\n",
       " 'Hulda',\n",
       " 'Knut',\n",
       " 'Ida',\n",
       " 'Knerten',\n",
       " 'Mons',\n",
       " 'Tullemor',\n",
       " 'Guro',\n",
       " 'Ovnsrøret',\n",
       " 'Mina',\n",
       " 'Putten',\n",
       " 'Tilla',\n",
       " 'Veslestuten',\n",
       " 'Martin',\n",
       " 'Henrik',\n",
       " 'Sokrates',\n",
       " 'Mads',\n",
       " 'Magnus',\n",
       " 'Lillen',\n",
       " 'Milly',\n",
       " 'Edvard',\n",
       " 'Karoline',\n",
       " 'Lille-Bjørn',\n",
       " 'Brande',\n",
       " 'Rundtomkring',\n",
       " 'Mona',\n",
       " 'Anne',\n",
       " 'Lille-Knerten',\n",
       " 'Puffen',\n",
       " 'Lars',\n",
       " 'Ginneken',\n",
       " 'Aurora',\n",
       " 'Nusse',\n",
       " 'Ivar',\n",
       " 'Marte',\n",
       " 'Oliver',\n",
       " 'Lillebror',\n",
       " 'Anton']"
      ]
     },
     "execution_count": 73,
     "metadata": {},
     "output_type": "execute_result"
    }
   ],
   "source": [
    "[x for x in ac_navn if x in single_navn]"
   ]
  }
 ],
 "metadata": {
  "kernelspec": {
   "display_name": "Python 3",
   "language": "python",
   "name": "python3"
  },
  "language_info": {
   "codemirror_mode": {
    "name": "ipython",
    "version": 3
   },
   "file_extension": ".py",
   "mimetype": "text/x-python",
   "name": "python",
   "nbconvert_exporter": "python",
   "pygments_lexer": "ipython3",
   "version": "3.7.4"
  }
 },
 "nbformat": 4,
 "nbformat_minor": 2
}
